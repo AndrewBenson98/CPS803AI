{
 "cells": [
  {
   "cell_type": "markdown",
   "metadata": {},
   "source": [
    "# CPS 803 / CP 8318\n",
    "# Assignment 1 - [Your Name Here] - [StudentID]\n",
    "## Part 1 [20 Marks]"
   ]
  },
  {
   "cell_type": "markdown",
   "metadata": {},
   "source": [
    "[6 Marks] \n",
    "# a\n",
    "\n",
    "Write a simple implementation of a least-squares solution to linear regression that applies an iterative update to adjust the weights. Demonstrate the success of your approach on the sample data loaded below, and visualize the best fit plotted as a line (consider using linspace) against a scatter plot of the x and y test values.\n"
   ]
  },
  {
   "cell_type": "code",
   "execution_count": 1,
   "metadata": {},
   "outputs": [],
   "source": [
    "from sklearn import datasets, linear_model\n",
    "from sklearn.metrics import mean_squared_error, r2_score\n",
    "import numpy as np\n",
    "\n",
    "# Load the diabetes dataset\n",
    "diabetes = datasets.load_diabetes()\n",
    "\n",
    "\n",
    "# Use only one feature\n",
    "diabetes_X = diabetes.data[:, np.newaxis, 2]\n",
    "\n",
    "# Split the data into training/testing sets\n",
    "diabetes_X_train = diabetes_X[:-20]\n",
    "diabetes_X_test = diabetes_X[-20:]\n",
    "\n",
    "# Split the targets into training/testing sets\n",
    "diabetes_y_train = diabetes.target[:-20]\n",
    "diabetes_y_test = diabetes.target[-20:]\n",
    "\n",
    "\n"
   ]
  },
  {
   "cell_type": "code",
   "execution_count": 2,
   "metadata": {
    "scrolled": false
   },
   "outputs": [
    {
     "data": {
      "text/plain": [
       "<Figure size 640x480 with 1 Axes>"
      ]
     },
     "metadata": {},
     "output_type": "display_data"
    }
   ],
   "source": [
    "##### YOUR CODE HERE #######\n",
    "##### YOUR CODE HERE #######\n",
    "\n",
    "import matplotlib.pyplot as plt\n",
    "\n",
    "\n",
    "\n",
    "samples = len(diabetes_X_train)\n",
    "iterations = 10000\n",
    "lr = 0.1\n",
    "\n",
    "#Add the bias by adding a 1 to each row of X\n",
    "X= np.c_[np.ones((samples,1)),diabetes_X_train]\n",
    "X_test = np.c_[np.ones((len(diabetes_X_test),1)),diabetes_X_test]\n",
    "y= diabetes_y_train.reshape(samples,1)\n",
    "\n",
    "weights = np.random.randn(2,1)\n",
    "\n",
    "\n",
    "for i in range(iterations):\n",
    "    sum = X.T.dot(X.dot(weights) - y)\n",
    "    weights = weights - (lr/samples)*sum\n",
    "\n",
    "\n",
    "#print(weights)\n",
    "\n",
    "#Using Sklearn\n",
    "# reg1 = linear_model.LinearRegression()\n",
    "# reg1.fit(diabetes_X_train,diabetes_y_train)\n",
    "# preds1 = reg1.predict (diabetes_X_test)\n",
    "\n",
    "#Using gradiant descent from scratch\n",
    "reg = linear_model.LinearRegression()\n",
    "reg.fit(X,X.dot(weights))\n",
    "preds = reg.predict(X_test)\n",
    "\n",
    "#Plot test points\n",
    "plt.scatter(diabetes_X_test, diabetes_y_test, color = 'red')\n",
    "plt.plot(diabetes_X_test,preds,color = 'blue')\n",
    "#plt.plot(diabetes_X_test,preds1,color = 'green')\n",
    "plt.show()"
   ]
  },
  {
   "cell_type": "markdown",
   "metadata": {},
   "source": [
    "[2 Marks]\n",
    "# b"
   ]
  },
  {
   "cell_type": "markdown",
   "metadata": {},
   "source": [
    "Load data on movie ratings, revenue, metadata etc. Split data into a relevant set for training, testing and classification. Explain your choice of split. It is ok if you decide to split into these subsets after part c -> if you do so, mention this at the end of your explanation.\n",
    "\n",
    "Explanation: SEE AFTER PART C FOR CODE\n",
    "\n",
    "I decided to split 80%/10%/10% for training, validation, and test respectivly. I allocated more to training because more data used for training will make the model more accurate. Validation and test dont need to be as large because they dont affect how the model will perform. They are just used to validate how accurate our trained model is using data the model has not seen. "
   ]
  },
  {
   "cell_type": "code",
   "execution_count": 3,
   "metadata": {},
   "outputs": [],
   "source": [
    "### An example to load a csv file\n",
    "import pandas as pd \n",
    "import numpy as np\n",
    "from ast import literal_eval\n",
    "meta_data=pd.read_csv('movies_metadata.csv', low_memory=False) # You may wish to specify types, or process columns once read\n",
    "ratings_small=pd.read_csv('ratings_small.csv')\n",
    "import warnings; warnings.simplefilter('ignore')\n",
    "\n",
    "##### YOUR CODE HERE #######\n",
    "# print(meta_data.shape)\n",
    "# print(len(ratings_small.movieId))\n",
    "\n",
    "#print(ratings_small.head())\n",
    "# data = meta_data.join(ratings_small, on = meta_data.id, right_on = 'movieId')\n",
    "# print(data.head(1))\n",
    "\n",
    "# ratings = ratings_small\n",
    "\n",
    "# for i in range(len(ratings_small.movieId)):\n",
    "#     if( ratings_small[i] in metea_data.Id):\n",
    "        \n",
    "#     else:\n",
    "#         ratings = ratings.drop()\n",
    "        \n",
    "#print(list(meta_data.columns))\n",
    "\n",
    "\n",
    "# rows = 45466\n",
    "# test_rows = int(rows *0.8)\n",
    "# val_rows = test_rows + int(rows *0.1)\n",
    "\n",
    "\n",
    "# X_train = meta_data[0:test_rows]\n",
    "# y_train = ratings_small[0:test_rows]\n",
    "\n",
    "# X_val = meta_data[test_rows+1:test_rows+val_rows]\n",
    "# y_val = meta_data[test_rows:val_rows]\n",
    "\n",
    "# X_test\n",
    "# y\n",
    "\n",
    "#print(X_train.head(5))\n",
    "\n",
    "\n",
    "\n",
    "# print(list(meta_data.columns))\n",
    "# print(list(ratings_small.columns))\n",
    "#print(meta_data.head(3))"
   ]
  },
  {
   "cell_type": "markdown",
   "metadata": {},
   "source": [
    "[5 Marks]\n",
    "# c"
   ]
  },
  {
   "cell_type": "markdown",
   "metadata": {},
   "source": [
    "Organize the data into relevant features for predicting revenue. <br>\n",
    "i.  Explain your feature sets and organization. <br>\n",
    "\n",
    "\n",
    "I picked features that I thought would have an impact on whether people would want to see the movie or not. Things such as ID proably dont have much of an affect on whether someone wants to watch a movie. I also stayed away from features that have many unique values such as overview and original title. With so many different values for a column, it wont really help the model predict how much money it will make and is just noise. \n",
    "\n",
    "ii. Plot movie revenue vs. rating as a scatter plot and discuss your findings. <br>\n",
    "\n",
    "We find that the rating of a movie does not necessarily mean higher revenues. The peak of the trend is at 3 stars and slowly goes down from there. There is a correlation between ratings and revenue but a high ratings does not mean high revenue and vice versa.  \n",
    "\n",
    "iii. Visualize any other relationships you deem interesting and explain. <br>\n",
    "\n",
    "RATING vs REVENUE GRAPH\n",
    "\n",
    "Another trend is that most movies did not make more that 500,000,000. The movies that did make more than that are have average ratings of around 2.8 to 4. This is interesting because after 4 there are almost no movies that made more than 500 million.\n",
    "\n",
    "Another trend i see is that movies that were rated exactly 5 stars earned just as much or even less revenues than movies that were rated 1 star. It seems like movies on the extrmemes of the ratings tend to make the least amount of money regradless of whether they were rated highly or poorly.\n",
    "\n",
    "BUDGET vs REVENUE GRAPH\n",
    "\n",
    "This graph represents how much money the movie made relative to how much was put in to make it. We see that for the most part, revenues go down as the budget increases. In fact, the majority of higher revenue movies have the lowest budgets.   \n",
    "\n",
    "\n",
    "Notes about the data\n",
    "There is also not a lot of data to work with since I cut meta_data and ratings_small down to around 2100 rows each. I also took the average rating for each movie if there were multiple ratings. This could skew the results. Another option could have been to take the mode of the ratings. \n"
   ]
  },
  {
   "cell_type": "code",
   "execution_count": 4,
   "metadata": {},
   "outputs": [
    {
     "data": {
      "text/html": [
       "<div>\n",
       "<style scoped>\n",
       "    .dataframe tbody tr th:only-of-type {\n",
       "        vertical-align: middle;\n",
       "    }\n",
       "\n",
       "    .dataframe tbody tr th {\n",
       "        vertical-align: top;\n",
       "    }\n",
       "\n",
       "    .dataframe thead th {\n",
       "        text-align: right;\n",
       "    }\n",
       "</style>\n",
       "<table border=\"1\" class=\"dataframe\">\n",
       "  <thead>\n",
       "    <tr style=\"text-align: right;\">\n",
       "      <th></th>\n",
       "      <th>vote_average</th>\n",
       "    </tr>\n",
       "  </thead>\n",
       "  <tbody>\n",
       "    <tr>\n",
       "      <th>0</th>\n",
       "      <td>7.7</td>\n",
       "    </tr>\n",
       "    <tr>\n",
       "      <th>1</th>\n",
       "      <td>6.9</td>\n",
       "    </tr>\n",
       "    <tr>\n",
       "      <th>2</th>\n",
       "      <td>6.5</td>\n",
       "    </tr>\n",
       "    <tr>\n",
       "      <th>3</th>\n",
       "      <td>6.1</td>\n",
       "    </tr>\n",
       "    <tr>\n",
       "      <th>4</th>\n",
       "      <td>5.7</td>\n",
       "    </tr>\n",
       "  </tbody>\n",
       "</table>\n",
       "</div>"
      ],
      "text/plain": [
       "   vote_average\n",
       "0           7.7\n",
       "1           6.9\n",
       "2           6.5\n",
       "3           6.1\n",
       "4           5.7"
      ]
     },
     "execution_count": 4,
     "metadata": {},
     "output_type": "execute_result"
    }
   ],
   "source": [
    "#PART I\n",
    "\n",
    "#meta_data.head()\n",
    "# The following line is one way of cleaning up the genres field - there are more verbose ways of doing this that are easier for a human to read\n",
    "#meta_data['genres'] = meta_data['genres'].fillna('[]').apply(literal_eval).apply(lambda x: [i['name'] for i in x] if isinstance(x, list) else [])\n",
    "#meta_data['year'] = pd.to_datetime(meta_data['release_date'], errors='coerce').apply(lambda x: str(x).split('-')[0] if x != np.nan else np.nan)\n",
    "#meta_data.head()\n",
    "# Consider how to columns look before and after this 'clean-up' - it is very common to have to massage the data to get the right features\n",
    "\n",
    "##### YOUR CODE HERE #######\n",
    "#data = meta_data\n",
    "#features = ['adult','budget','original_language','release_date','runtime','vote_average','vote_count']\n",
    "# features = ['runtime','vote_average','vote_count']\n",
    "\n",
    "#meta_data['budget'] = meta_data['budget'].astype(str).astype(int)\n",
    "\n",
    "\n",
    "#Features\n",
    "# features = ['runtime','vote_average','vote_count','revenue']\n",
    "# features = ['id','budget','vote_average','revenue']\n",
    "features = ['vote_average','revenue']\n",
    "data = meta_data[features]\n",
    "\n",
    "\n",
    "#Drop rows where Revennue isn't given\n",
    "data.dropna(subset=['revenue'],axis =0,inplace = True)\n",
    "\n",
    "#Let y be data labels and drop revenue from data table\n",
    "y = data.revenue\n",
    "data.drop(['revenue'],axis =1,inplace = True)\n",
    "\n",
    "#print(data.shape)\n",
    "#print(y.shape)\n",
    "\n",
    "#print(list(meta_data.columns))\n",
    "\n",
    "#print(data.shape)\n",
    "#print(data.isnull().sum())\n",
    "\n",
    "# pd.to_numeric(data.budget)\n",
    "\n",
    "#print(data.dtypes)\n",
    "\n",
    "#Fill numeric values with the average and categorical values with the more frequent\n",
    "for col, column in enumerate(data.columns):\n",
    "    if (data[column].dtype=='int64' or data[column].dtype=='float64'):\n",
    "        data[column] = pd.to_numeric(data[column],errors = 'coerce')\n",
    "        data[column].fillna(data[column].mean,inplace = True)\n",
    "        \n",
    "    elif(data[column].dtype == 'object'):\n",
    "        data[column] = pd.to_numeric(data[column],errors = 'coerce')\n",
    "        data[column].fillna(data[column].mode,inplace = True)\n",
    "        \n",
    "\n",
    "        \n",
    "#print(data.isnull().sum())\n",
    "data.head()"
   ]
  },
  {
   "cell_type": "code",
   "execution_count": 5,
   "metadata": {},
   "outputs": [
    {
     "name": "stdout",
     "output_type": "stream",
     "text": [
      "       userId movieId  rating   timestamp  avg_rating\n",
      "3074       18     100     4.0   856007279    3.428571\n",
      "97348     652  100017     3.0  1451789068    3.000000\n",
      "2481       15  100032     2.0  1361076617    2.000000\n",
      "8708       56  100272     4.0  1469154665    4.000000\n",
      "52161     380  100450     3.5  1363548526    3.500000\n"
     ]
    },
    {
     "data": {
      "image/png": "[encoded data removed]",
      "text/plain": [
       "<Figure size 432x288 with 1 Axes>"
      ]
     },
     "metadata": {
      "needs_background": "light"
     },
     "output_type": "display_data"
    },
    {
     "data": {
      "image/png": "[encoded data removed]",
      "text/plain": [
       "<Figure size 432x288 with 1 Axes>"
      ]
     },
     "metadata": {
      "needs_background": "light"
     },
     "output_type": "display_data"
    }
   ],
   "source": [
    "#PART II\n",
    "\n",
    "#Reduce ratings because it has too many\n",
    "\n",
    "ratings_data = ratings_small\n",
    "movie_data = meta_data\n",
    "\n",
    "\n",
    "#Set up ratings to have the average rating for each movie ID\n",
    "ratings_data['avg_rating'] = ratings_data.groupby(['movieId'])['rating'].transform('mean') \n",
    "ratings_data.drop_duplicates(subset= 'movieId',inplace =True)\n",
    "# print(ratings_small.head())\n",
    "# print(ratings_small.shape)\n",
    "#Make Ratings ID the same data type at meta_data id\n",
    "ratings_data['movieId']= ratings_data['movieId'].astype(str)\n",
    "\n",
    "\n",
    "#Set up meta_data to have only the same movies as ratings\n",
    "\n",
    "#Remove duplicate ID rows\n",
    "movie_data.drop_duplicates(subset = 'id',inplace = True)\n",
    "  \n",
    "#Reduce both data sets to contain only common ID rows\n",
    "movie_data = movie_data[movie_data['id'].isin(ratings_data['movieId'])]\n",
    "ratings_data = ratings_data[ratings_data['movieId'].isin(movie_data['id'])]\n",
    "\n",
    "\n",
    "#print(type(movie_data))\n",
    "\n",
    "#Sort the datasets\n",
    "movie_data.sort_values(by = 'id', inplace = True)\n",
    "ratings_data.sort_values(by = 'movieId',inplace = True)\n",
    "\n",
    "#Check to see if they are the same size\n",
    "# print(movie_data.shape)\n",
    "# print(ratings_data.shape)\n",
    "\n",
    "# ratings_data.movieId.to_csv('ratings_test.csv')\n",
    "# movie_data.id.to_csv('movie_test.csv')\n",
    "\n",
    "print(ratings_data.head())\n",
    "\n",
    "#Show revenue vs rating\n",
    "\n",
    "#NOTE RE-RUN ALL ABOVE CODE TO VIEW SCATTER PLOT. RUNNING THIS BLOCK TWICE IN A ROW CHANGES THE GRAPHS\n",
    "plt.scatter(ratings_data.avg_rating,movie_data.revenue,color = 'red')\n",
    "plt.xlabel(\"Average Rating\")\n",
    "plt.ylabel(\"Revenue\")\n",
    "plt.title(\"Rating vs Title\")\n",
    "plt.show()\n",
    "\n",
    "# plt.scatter(ratings_data.rating,movie_data.revenue,color = 'blue')\n",
    "# plt.show()\n",
    "\n",
    "plt.scatter(meta_data.budget, meta_data.revenue,color = 'green')\n",
    "plt.xlabel(\"Budget\")\n",
    "plt.ylabel(\"Revenue\")\n",
    "plt.title(\"Budget vs Title\")\n",
    "plt.show()\n",
    "\n"
   ]
  },
  {
   "cell_type": "code",
   "execution_count": 6,
   "metadata": {},
   "outputs": [],
   "source": [
    "# print(ratings_small.movieId.nunique())\n",
    "# print(meta_data.id.nunique())"
   ]
  },
  {
   "cell_type": "code",
   "execution_count": 7,
   "metadata": {},
   "outputs": [
    {
     "name": "stdout",
     "output_type": "stream",
     "text": [
      "float64\n"
     ]
    }
   ],
   "source": [
    "#PART B Data Split\n",
    "\n",
    "\n",
    "# Split data into train, test, and validation\n",
    "\n",
    "print(y.dtypes)\n",
    "size = len(data)\n",
    "train_size = int(size*0.8)\n",
    "test_size = int(size*0.1)\n",
    "val_size = int(size*0.1)\n",
    "\n",
    "X_train = data[0:train_size]\n",
    "y_train = y[0:train_size]\n",
    "\n",
    "\n",
    "X_test = data[train_size: train_size+ test_size]\n",
    "y_test = y[train_size:train_size+test_size]\n",
    "\n",
    "\n",
    "\n",
    "X_val = data[train_size+ test_size: ]\n",
    "y_val = y[train_size+ test_size: ]\n",
    "\n",
    "\n",
    "\n",
    "# train_id = data.id[0:train_size]\n",
    "# X_train.drop(['id'],axis =1,inplace = True)\n",
    "# test_id = data.id[train_size:train_size+test_size]\n",
    "# X_test.drop(['id'],axis =1,inplace = True)\n",
    "# val_id = data.id[train_size+ test_size: ]\n",
    "# X_val.drop(['id'],axis =1,inplace = True)\n",
    "\n",
    "\n",
    "# print(size)\n",
    "# print(X_train.shape)\n",
    "# print(X_test.shape)\n",
    "# print(X_val.shape)\n",
    "\n",
    "# print(len(X_train) +len(X_test)+len(X_val))\n"
   ]
  },
  {
   "cell_type": "markdown",
   "metadata": {},
   "source": [
    "[3 Marks]\n",
    "# d"
   ]
  },
  {
   "cell_type": "markdown",
   "metadata": {},
   "source": [
    "Train a regression model to predict movie revenue. Plot predicted revenue vs. actual revenue on the test set. Quantify the error in your prediction. (You may use sklearn for this step)"
   ]
  },
  {
   "cell_type": "code",
   "execution_count": 8,
   "metadata": {},
   "outputs": [
    {
     "data": {
      "image/png": "[encoded data removed]",
      "text/plain": [
       "<Figure size 432x288 with 1 Axes>"
      ]
     },
     "metadata": {
      "needs_background": "light"
     },
     "output_type": "display_data"
    }
   ],
   "source": [
    "# Regression model here, plot your fit to the revenue data versus the actual data from the test set as a scatter plot.\n",
    "\n",
    "##### YOUR CODE HERE #######\n",
    "\n",
    "\"\"\"\n",
    "Notes abour Error\n",
    "\n",
    "In the data theres seems to be a lot of instances where the labeled revenues\n",
    "are $0. This will have an effect on the model as causing the graphs to look\n",
    "flatter than they should be. \n",
    "\n",
    "\"\"\"\n",
    "\n",
    "\n",
    "# print(y_val.head())\n",
    "# print(X_val.head())\n",
    "\n",
    "reg.fit(X_train,y_train)\n",
    "preds_val = reg.predict(X_val)\n",
    "preds=reg.predict(X_test)\n",
    "\n",
    "#print(preds_val)\n",
    "\n",
    "# print(len(X_val))\n",
    "# print(len(y_val))\n",
    "# plt.scatter(val_id,y_val,color = 'red')\n",
    "# plt.show()\n",
    "# plt.plot(val_id,preds_val,color = 'blue')\n",
    "# plt.show()\n",
    "\n",
    "# plt.scatter(val_id,y_val,color = 'red')\n",
    "# plt.scatter(val_id,preds_val,color = 'blue')\n",
    "# plt.show()\n",
    "\n",
    "# plt.scatter(X_val,y_val,color = 'red')\n",
    "# plt.plot(X_val,preds_val,color = 'blue')\n",
    "# plt.xlabel(\"Rating\")\n",
    "# plt.ylabel(\"Revenue\")\n",
    "#plt.show()\n",
    "\n",
    "\n",
    "\n",
    "\n",
    "plt.scatter(X_test,y_test,color = 'red')\n",
    "plt.plot(X_test,preds,color = 'blue')\n",
    "plt.xlabel(\"Rating\")\n",
    "plt.ylabel(\"Revenue\")\n",
    "plt.show()\n",
    "\n",
    "\n",
    "\n",
    "\n"
   ]
  },
  {
   "cell_type": "markdown",
   "metadata": {},
   "source": [
    "[4 Marks]\n",
    "# e\n",
    "\n",
    "Try a non-linear fit to the data, with and without regularization. Find your best fit and justify the choice of parameters, regularization constant and norm. Plot predicted revenue vs. actual revenue on the test set. In each case, quantify the error. (See e.g. Generalized linear models, Kernel Ridge regression, SVR and others from sklearn)"
   ]
  },
  {
   "cell_type": "code",
   "execution_count": 9,
   "metadata": {},
   "outputs": [
    {
     "data": {
      "image/png": "[encoded data removed]",
      "text/plain": [
       "<Figure size 432x288 with 1 Axes>"
      ]
     },
     "metadata": {
      "needs_background": "light"
     },
     "output_type": "display_data"
    }
   ],
   "source": [
    "##### YOUR CODE HERE WITHOUT REGULARIZATION #######\n",
    "\n",
    "#from sklearn.kernel_ridge import KernelRidge\n",
    "# from sklearn.svm import SVR\n",
    "\n",
    "# clf = SVR(gamma='scale',C=0.1)\n",
    "# clf.fit(X_train,y_train)\n",
    "# preds = clf.predict(X_test)\n",
    "\n",
    "#coef = [0.0,0.0]\n",
    "\n",
    "# clf = KernelRidge(alpha=1.0)\n",
    "# clf.fit(X_train,y_train)\n",
    "# preds = clf.predict(X_test)\n",
    "\n",
    "coef = [0,0]\n",
    "\n",
    "reg.fit(X_train,y_train)\n",
    "reg.coef_array = (coef)\n",
    "preds = reg.predict(X_test)\n",
    "\n",
    "\n",
    "plt.scatter(X_test,y_test,color = 'red')\n",
    "plt.plot(X_test,preds,color = 'blue')\n",
    "plt.show()"
   ]
  },
  {
   "cell_type": "code",
   "execution_count": 10,
   "metadata": {},
   "outputs": [
    {
     "data": {
      "image/png": "[encoded data removed]",
      "text/plain": [
       "<Figure size 432x288 with 1 Axes>"
      ]
     },
     "metadata": {
      "needs_background": "light"
     },
     "output_type": "display_data"
    }
   ],
   "source": [
    "##### YOUR CODE HERE WITH REGULARIZATION #######\n",
    "coef = [10,10]\n",
    "\n",
    "reg = linear_model.LinearRegression()\n",
    "reg.coef_array = (coef)\n",
    "\n",
    "reg.fit(X_train,y_train)\n",
    "preds = reg.predict(X_test)\n",
    "\n",
    "plt.scatter(X_test,y_test,color = 'red')\n",
    "plt.plot(X_test,preds,color = 'blue')\n",
    "plt.show()\n",
    "\n"
   ]
  },
  {
   "cell_type": "markdown",
   "metadata": {},
   "source": [
    "## Part 2 [10 Marks]\n",
    "\n",
    "[4 Marks]\n",
    "# a\n",
    "\n",
    "Write a simple version of the basic algorithm for k-means clustering. Simple here means the core of the algorithm and not optimizations or extensions you might find in standard python libraries. Typically you might rely on a standard library for doing this, but it helps to see the core by manipulating the data and labels by hand as practice for numerical python and how to frame the algorithm."
   ]
  },
  {
   "cell_type": "code",
   "execution_count": 11,
   "metadata": {},
   "outputs": [
    {
     "data": {
      "image/png": "[encoded data removed]",
      "text/plain": [
       "<Figure size 432x288 with 1 Axes>"
      ]
     },
     "metadata": {},
     "output_type": "display_data"
    },
    {
     "name": "stdout",
     "output_type": "stream",
     "text": [
      "[ 2.72832722  2.28467379  2.34471049 -1.98888217] [0.12778531 5.82324255 0.03428641 5.98589435]\n",
      "[ 1.98258281  0.94973532 -1.58438467 -1.37324398] [0.86771314 4.41906906 2.83081263 7.75368871]\n"
     ]
    },
    {
     "data": {
      "image/png": "[encoded data removed]",
      "text/plain": [
       "<Figure size 432x288 with 1 Axes>"
      ]
     },
     "metadata": {},
     "output_type": "display_data"
    }
   ],
   "source": [
    "# Import packages\n",
    "%matplotlib inline\n",
    "import matplotlib.pyplot as plt\n",
    "import seaborn as sns; sns.set()  # for plot styling\n",
    "import numpy as np\n",
    "\n",
    "\n",
    "# Generate Samples\n",
    "from sklearn.datasets.samples_generator import make_blobs\n",
    "X, y_true = make_blobs(n_samples=300, centers=4,\n",
    "                       cluster_std=0.60, random_state=0)\n",
    "plt.scatter(X[:, 0], X[:, 1], s=50);\n",
    "\n",
    "###############################################\n",
    "# YOUR CODE GOES HERE\n",
    "# Put some code to find clusters here\n",
    "# Assign the clusters and labels in your code\n",
    "###############################################\n",
    "import math\n",
    "from statistics import mean\n",
    "\n",
    "k = 4\n",
    "centers = []\n",
    "#Initialize Random Centers\n",
    "\n",
    "# centersx = (np.random.randint(-3, high=3, size=k))\n",
    "# centersy = (np.random.randint(0, high=8, size=k))\n",
    "\n",
    "centersx = ( -3 + np.random.sample(k) *6)\n",
    "centersy = ( 0  + np.random.sample(k) *8)\n",
    "\n",
    "plt.scatter(centersx,centersy, color = 'red')\n",
    "plt.show()\n",
    "\n",
    "\n",
    "#Assign each point to a center\n",
    "print(centersx,centersy)\n",
    "#List of smaples length with numbers 1 - k that correspond to which center each value is in\n",
    "iterations =40\n",
    "\n",
    "#Arrays that will hold the X and Y values that belong to each cluster\n",
    "c0_X =[]\n",
    "c0_y =[]\n",
    "c1_X =[]\n",
    "c1_y =[]\n",
    "c2_X =[]\n",
    "c2_y =[]\n",
    "c3_X =[]\n",
    "c3_y =[]\n",
    "\n",
    "#Iterate X amount of times\n",
    "for i in range(iterations):\n",
    "\n",
    "    groups= []\n",
    "    \n",
    "    #Reset X and Y values\n",
    "    c0_X =[]\n",
    "    c0_y =[]\n",
    "    c1_X =[]\n",
    "    c1_y =[]\n",
    "    c2_X =[]\n",
    "    c2_y =[]\n",
    "    c3_X =[]\n",
    "    c3_y =[]\n",
    "\n",
    "\n",
    "    #For each point in the dataset\n",
    "    for pair in X: \n",
    "\n",
    "        #Calulate the distance to each point\n",
    "        c0= math.sqrt( ((pair[0]-centersx[0])**2)+((pair[1]-centersy[0])**2) )\n",
    "        c1= math.sqrt( ((pair[0]-centersx[1])**2)+((pair[1]-centersy[1])**2) )\n",
    "        c2= math.sqrt( ((pair[0]-centersx[2])**2)+((pair[1]-centersy[2])**2) )\n",
    "        c3= math.sqrt( ((pair[0]-centersx[3])**2)+((pair[1]-centersy[3])**2) )\n",
    "        #print([c0,c1,c2,c3])\n",
    "        list = [c0,c1,c2,c3]\n",
    "        \n",
    "        #Add each point to the list of the closest center point\n",
    "        if min(list) == c0: \n",
    "            groups.append(0)\n",
    "            c0_X.append(pair[0])\n",
    "            c0_y.append(pair[1])\n",
    "            #print(0)\n",
    "        elif min(list) == c1:\n",
    "            groups.append(1)\n",
    "            c1_X.append(pair[0])\n",
    "            c1_y.append(pair[1])\n",
    "            #print(1)\n",
    "        elif min(list) == c2:\n",
    "            groups.append(2)\n",
    "            c2_X.append(pair[0])\n",
    "            c2_y.append(pair[1])\n",
    "            #print(2)\n",
    "        elif min(list) == c3:\n",
    "            groups.append(3)\n",
    "            c3_X.append(pair[0])\n",
    "            c3_y.append(pair[1])\n",
    "            #print(3)\n",
    "\n",
    "\n",
    "    #Shift centers by getting the mean of all the points that belong to that center\n",
    "    if len(c0_X) >0:\n",
    "        centersx[0] = mean(c0_X)\n",
    "        \n",
    "    if len(c1_X) >0:\n",
    "        centersx[1] = mean(c1_X)\n",
    "      \n",
    "    if len(c2_X) >0:\n",
    "        centersx[2] = mean(c2_X)\n",
    "      \n",
    "    if len(c3_X) >0:\n",
    "        centersx[3] = mean(c3_X)\n",
    "       \n",
    "        \n",
    "    if len(c0_y) >0:\n",
    "        centersy[0]= mean(c0_y)\n",
    "        \n",
    "    if len(c1_y) >0:\n",
    "        centersy[1]= mean(c1_y)\n",
    "       \n",
    "    if len(c2_y) >0:\n",
    "        centersy[2]= mean(c2_y)\n",
    "        \n",
    "    if len(c3_y) >0:\n",
    "        centersy[3]= mean(c3_y)\n",
    "        \n",
    "\n",
    "    # centersy[0]= mean(c0_y)\n",
    "    # centersy[1]= mean(c1_y)\n",
    "    # centersy[2]= mean(c2_y)\n",
    "    # centersy[3]= mean(c3_y)\n",
    "    \n",
    "#Final center coordinates [X],[y]\n",
    "print(centersx,centersy)\n",
    "#print(mean(c0_X))\n",
    "#print(c0_X)\n",
    "\n",
    "plt.scatter(c0_X,c0_y,color = 'green')\n",
    "plt.scatter(c1_X,c1_y,color = 'purple')\n",
    "plt.scatter(c2_X,c2_y,color = 'blue')\n",
    "plt.scatter(c3_X,c3_y,color = 'yellow')\n",
    "        \n",
    "\n",
    "#plt.scatter(X[:, 0], X[:, 1], s=50)\n",
    "plt.scatter(centersx,centersy, color = 'red')\n",
    "plt.show()\n",
    "#centers\n",
    "\n",
    "\n",
    "# Uncomment to display clusters and cluster centers\n",
    "#plt.scatter(X[:, 0], X[:, 1], c=labels,\n",
    "#            s=50, cmap='viridis');\n",
    "#plt.scatter(centers[:, 0], centers[:, 1], c='black', s=200, alpha=0.5);"
   ]
  },
  {
   "cell_type": "markdown",
   "metadata": {},
   "source": [
    "<a id=\"data set\"></a>\n",
    "[6 Marks]\n",
    "# b\n",
    "\n",
    "Load the mystery data below, and cluster the data (you don't need to use your code from part a). Visualize the data including assigned cluster labels."
   ]
  },
  {
   "cell_type": "code",
   "execution_count": 140,
   "metadata": {
    "scrolled": true
   },
   "outputs": [
    {
     "data": {
      "text/plain": [
       "KMeans(algorithm='auto', copy_x=True, init='k-means++', max_iter=300,\n",
       "    n_clusters=250, n_init=10, n_jobs=None, precompute_distances='auto',\n",
       "    random_state=None, tol=0.0001, verbose=0)"
      ]
     },
     "execution_count": 140,
     "metadata": {},
     "output_type": "execute_result"
    }
   ],
   "source": [
    "# Load the mystery data here and cluster using k-means (now you can use libraries e.g. sklearn)\n",
    "\n",
    "from sklearn.cluster import KMeans\n",
    "\n",
    "\n",
    "mystery = np.load('mystery.npy')\n",
    "#mystery.shape\n",
    "#print(mystery[0])\n",
    "\n",
    "\n",
    "# k_means = KMeans(n_clusters = 250)\n",
    "# k_means.fit(mystery)\n",
    "\n",
    "\n",
    "# score = [k_means.score(mystery)]\n",
    "# clusters = 50\n",
    "# for i in range(1,2):\n",
    "#     k_means = KMeans(n_clusters = clusters,max_iter = 500)\n",
    "#     k_means.fit(mystery)\n",
    "#     score.append(k_means.score(mystery))\n",
    "#     clusters = cluster +10\n",
    "\n",
    "# print(score)\n",
    "# for i in range(len(mystery[0])-1):\n",
    "#     plt.scatter(mystery[:, i], mystery[:, i+1])\n",
    "\n",
    "#centers = k_means.cluster_centers_\n",
    "# plt.scatter(centers[:, 0], centers[:, 1], c='black', s=200, alpha=0.5);\n",
    "# plt.show()"
   ]
  },
  {
   "cell_type": "code",
   "execution_count": 141,
   "metadata": {},
   "outputs": [
    {
     "name": "stdout",
     "output_type": "stream",
     "text": [
      "[-41092986236.02047, -41131752297.641335, -39968985168.9627, -39029708845.54799, -38197314422.65695, -37505504794.256905, -36841014416.41806, -36195821794.96944, -35726020688.599594, -35230777962.96538]\n"
     ]
    }
   ],
   "source": [
    "# clusters = 250\n",
    "\n",
    "# cluster_num = [clusters]\n",
    "# score = [k_means.score(mystery)] \n",
    "\n",
    "# for i in range(1,10):\n",
    "#     k_means = KMeans(n_clusters = clusters,max_iter = 500)\n",
    "#     k_means.fit(mystery)\n",
    "#     score.append(k_means.score(mystery))\n",
    "#     cluster_num.append(clusters)\n",
    "#     clusters = clusters +50\n",
    "\n",
    "# print(score)"
   ]
  },
  {
   "cell_type": "code",
   "execution_count": 142,
   "metadata": {
    "scrolled": true
   },
   "outputs": [
    {
     "data": {
      "image/png": "[encoded data removed]",
      "text/plain": [
       "<Figure size 432x288 with 1 Axes>"
      ]
     },
     "metadata": {},
     "output_type": "display_data"
    }
   ],
   "source": [
    "\n",
    "# #print(score[:][0])\n",
    "\n",
    "# plt.plot(cluster_num,score)\n",
    "# plt.show()"
   ]
  },
  {
   "cell_type": "code",
   "execution_count": 143,
   "metadata": {},
   "outputs": [
    {
     "name": "stdout",
     "output_type": "stream",
     "text": [
      "[-41092986236.02047, -41131752297.641335, -39968985168.9627, -39029708845.54799, -38197314422.65695, -37505504794.256905, -36841014416.41806, -36195821794.96944, -35726020688.599594, -35230777962.96538, -34762042271.900406, -33949252488.952934, -33221406934.838146, -32579163557.866955, -31985945957.133118, -31443000293.228107, -30938043982.25255, -30454218126.03869, -29990217217.933235]\n"
     ]
    }
   ],
   "source": [
    "# clusters = 700\n",
    "\n",
    "# # cluster_num = []\n",
    "# # score = [] \n",
    "\n",
    "# for i in range(1,10):\n",
    "#     k_means = KMeans(n_clusters = clusters)\n",
    "#     k_means.fit(mystery)\n",
    "#     score.append(k_means.score(mystery))\n",
    "#     cluster_num.append(clusters)\n",
    "#     clusters = clusters +100\n",
    "\n",
    "# print(score)"
   ]
  },
  {
   "cell_type": "code",
   "execution_count": 145,
   "metadata": {},
   "outputs": [
    {
     "name": "stdout",
     "output_type": "stream",
     "text": [
      "[-41092986236.02047, -41131752297.641335, -39968985168.9627, -39029708845.54799, -38197314422.65695, -37505504794.256905, -36841014416.41806, -36195821794.96944, -35726020688.599594, -35230777962.96538, -34762042271.900406, -33949252488.952934, -33221406934.838146, -32579163557.866955, -31985945957.133118, -31443000293.228107, -30938043982.25255, -30454218126.03869, -29990217217.933235]\n",
      "[250, 250, 300, 350, 400, 450, 500, 550, 600, 650, 700, 800, 900, 1000, 1100, 1200, 1300, 1400, 1500]\n"
     ]
    }
   ],
   "source": [
    "# print(score)\n",
    "# print(cluster_num)"
   ]
  },
  {
   "cell_type": "code",
   "execution_count": 146,
   "metadata": {},
   "outputs": [
    {
     "data": {
      "image/png": "[encoded data removed]",
      "text/plain": [
       "<Figure size 432x288 with 1 Axes>"
      ]
     },
     "metadata": {},
     "output_type": "display_data"
    }
   ],
   "source": [
    "# #print(score[:][0])\n",
    "\n",
    "plt.plot(cluster_num,score)\n",
    "plt.title(\"Model Score vs Num Clusters\")\n",
    "plt.xlabel(\"Num of Clusters\")\n",
    "plt.ylabel(\"Score\")\n",
    "plt.show()"
   ]
  },
  {
   "cell_type": "code",
   "execution_count": 106,
   "metadata": {
    "scrolled": false
   },
   "outputs": [
    {
     "data": {
      "image/png": "[encoded data removed]",
      "text/plain": [
       "<Figure size 432x288 with 1 Axes>"
      ]
     },
     "metadata": {},
     "output_type": "display_data"
    },
    {
     "data": {
      "image/png": "[encoded data removed]",
      "text/plain": [
       "<Figure size 432x288 with 1 Axes>"
      ]
     },
     "metadata": {},
     "output_type": "display_data"
    },
    {
     "name": "stdout",
     "output_type": "stream",
     "text": [
      "-68492426234.977936\n"
     ]
    }
   ],
   "source": [
    "# # Find a way to visualize the data (e.g. in 2D or 3D), color datapoints based on assigned labels.\n",
    "# #plt.matshow(mystery[:1000])\n",
    "# # for i in range(len(mystery[0])-1):\n",
    "# #     plt.scatter(mystery[:, i], mystery[:, i+1])\n",
    "\n",
    "# plt.scatter(mystery[:,0], mystery[:,1])\n",
    "\n",
    "# centers = k_means.cluster_centers_\n",
    "# print(centers.shape)\n",
    "# #plt.scatter(centers[:], centers[:], c='black')\n",
    "# plt.show()\n",
    "\n",
    "#plt.imshow(mystery[:700])\n",
    "#plt.colorbar()\n",
    "#plt.show()\n",
    "\n",
    "c1 = 5\n",
    "c2 = 6\n",
    "\n",
    "plt.scatter(mystery[:, c1], mystery[:, c2])\n",
    "\n",
    "centers = k_means.cluster_centers_\n",
    "\n",
    "plt.scatter(centers[:, c1], centers[:, c2], c='green', s=200, alpha=0.5);\n",
    "plt.show()\n",
    "\n",
    "plt.scatter(centers[:, c1], centers[:, c2], c='green', s=200, alpha=0.5);\n",
    "plt.show()\n",
    "\n",
    "\n",
    "print(k_means.score(mystery))\n",
    "#print(k_means.labels_)\n",
    "#print(centers[0])\n",
    "#plt.scatter(mystery[0],mystery[1])\n",
    "#plt.show()\n",
    "\n",
    "\n"
   ]
  },
  {
   "cell_type": "markdown",
   "metadata": {},
   "source": [
    "Based on the results above and any other analysis you wish to include, discuss how many clusters you see in the data.\n",
    "\n",
    "YOUR EXPLANATION HERE\n",
    "\n",
    "(any additional code supporting your assertion on the number of clusters may be included below)"
   ]
  },
  {
   "cell_type": "code",
   "execution_count": null,
   "metadata": {},
   "outputs": [],
   "source": [
    "##### YOUR (OPTIONAL) CODE HERE #######"
   ]
  },
  {
   "cell_type": "markdown",
   "metadata": {},
   "source": [
    "[2 Marks]\n",
    "# Bonus"
   ]
  },
  {
   "cell_type": "markdown",
   "metadata": {},
   "source": [
    "What is the mystery data in part 2? Show this in markdown and code below."
   ]
  },
  {
   "cell_type": "markdown",
   "metadata": {},
   "source": [
    "EXPLANATION HERE, code goes below."
   ]
  },
  {
   "cell_type": "code",
   "execution_count": null,
   "metadata": {},
   "outputs": [],
   "source": [
    "##### YOUR (OPTIONAL) CODE HERE #######"
   ]
  },
  {
   "cell_type": "markdown",
   "metadata": {},
   "source": [
    "[10 Marks]\n",
    "# CP 8318 Questions"
   ]
  },
  {
   "cell_type": "markdown",
   "metadata": {},
   "source": [
    "Describe how you might implement a solution to recommend new movies to a user based on their existing preferences or ratings from Part 1."
   ]
  },
  {
   "cell_type": "markdown",
   "metadata": {},
   "source": [
    "YOUR EXPLANATION HERE, provide an example for one user id below."
   ]
  },
  {
   "cell_type": "code",
   "execution_count": null,
   "metadata": {},
   "outputs": [],
   "source": [
    "##### YOUR CODE HERE #######\n"
   ]
  },
  {
   "cell_type": "code",
   "execution_count": null,
   "metadata": {},
   "outputs": [],
   "source": []
  }
 ],
 "metadata": {
  "kernelspec": {
   "display_name": "Python 3",
   "language": "python",
   "name": "python3"
  },
  "language_info": {
   "codemirror_mode": {
    "name": "ipython",
    "version": 3
   },
   "file_extension": ".py",
   "mimetype": "text/x-python",
   "name": "python",
   "nbconvert_exporter": "python",
   "pygments_lexer": "ipython3",
   "version": "3.7.3"
  }
 },
 "nbformat": 4,
 "nbformat_minor": 2
}
